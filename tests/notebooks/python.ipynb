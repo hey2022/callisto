{
 "cells": [
  {
   "cell_type": "code",
   "execution_count": 1,
   "id": "288d448a-380a-4fdd-a907-f5b149f87456",
   "metadata": {},
   "outputs": [],
   "source": [
    "import sys"
   ]
  },
  {
   "cell_type": "markdown",
   "id": "0079e592-7ddd-4a92-9e0f-c7b7af8025c0",
   "metadata": {},
   "source": [
    "Some prints:"
   ]
  },
  {
   "cell_type": "code",
   "execution_count": null,
   "id": "79988210-eb61-433d-b442-27f7792f5bec",
   "metadata": {},
   "outputs": [],
   "source": [
    "a"
   ]
  },
  {
   "cell_type": "code",
   "execution_count": 5,
   "id": "19cdb152-021b-4811-83de-3610ec97fc5b",
   "metadata": {},
   "outputs": [
    {
     "name": "stdout",
     "output_type": "stream",
     "text": [
      "stdout1\n",
      "stdout2\n"
     ]
    },
    {
     "name": "stderr",
     "output_type": "stream",
     "text": [
      "stderr1\n",
      "stderr2\n"
     ]
    }
   ],
   "source": [
    "#| label: xx\n",
    "print('stderr1', file=sys.stderr)\n",
    "print('stdout1')\n",
    "print('stderr2', file=sys.stderr)\n",
    "print('stdout2')"
   ]
  },
  {
   "cell_type": "code",
   "execution_count": 3,
   "id": "4d6e404c-29d9-448c-9030-2d38e7dc054a",
   "metadata": {},
   "outputs": [
    {
     "name": "stderr",
     "output_type": "stream",
     "text": [
      "stderr1\n"
     ]
    },
    {
     "name": "stdout",
     "output_type": "stream",
     "text": [
      "stdout1\n"
     ]
    },
    {
     "name": "stderr",
     "output_type": "stream",
     "text": [
      "stderr2\n"
     ]
    },
    {
     "name": "stdout",
     "output_type": "stream",
     "text": [
      "stdout2\n"
     ]
    }
   ],
   "source": [
    "print('stderr1', file=sys.stderr, flush=True)\n",
    "print('stdout1', flush=True)\n",
    "print('stderr2', file=sys.stderr, flush=True)\n",
    "print('stdout2', flush=True)"
   ]
  },
  {
   "cell_type": "code",
   "execution_count": 4,
   "id": "81c5766c-d773-4777-8a4e-33c6ae36c044",
   "metadata": {},
   "outputs": [
    {
     "data": {
      "text/plain": [
       "1"
      ]
     },
     "execution_count": 4,
     "metadata": {},
     "output_type": "execute_result"
    },
    {
     "data": {
      "text/plain": [
       "2"
      ]
     },
     "execution_count": 4,
     "metadata": {},
     "output_type": "execute_result"
    }
   ],
   "source": [
    "sys.displayhook(1)\n",
    "2"
   ]
  },
  {
   "cell_type": "code",
   "execution_count": 1,
   "id": "dd4e2bd4-8bd3-4111-b513-4932cb312e24",
   "metadata": {},
   "outputs": [
    {
     "data": {
      "image/png": "[encoded data removed]",
      "text/plain": [
       "<IPython.core.display.Image object>"
      ]
     },
     "metadata": {
      "image/png": {
       "a": "x",
       "height": 10,
       "width": 10
      }
     },
     "output_type": "display_data"
    },
    {
     "name": "stdout",
     "output_type": "stream",
     "text": [
      "hello1\n"
     ]
    },
    {
     "data": {
      "image/png": "[encoded data removed]",
      "text/plain": [
       "<IPython.core.display.Image object>"
      ]
     },
     "metadata": {
      "image/png": {
       "a": "x",
       "height": 10,
       "width": 10
      }
     },
     "output_type": "display_data"
    },
    {
     "name": "stdout",
     "output_type": "stream",
     "text": [
      "hello2\n"
     ]
    }
   ],
   "source": [
    "from base64 import b64decode\n",
    "from IPython.display import Image, display\n",
    "img = b64decode('iVBORw0KGgoAAAANSUhEUgAAAAUAAAAFCAYAAACNbyblAAAAHElEQVQI12P4//8/w38GIAXDIBKE0DHxgljNBAAO9TXL0Y4OHwAAAABJRU5ErkJggg==')\n",
    "h = display(Image(img, width=10, height=10, metadata={\"a\": \"x\"}), display_id=True)\n",
    "print('hello1')\n",
    "display(Image(img, width=10, height=10, metadata={\"a\": \"x\"}), display_id=True)\n",
    "print('hello2')"
   ]
  }
 ],
 "metadata": {
  "kernelspec": {
   "display_name": "Python 3 (ipykernel)",
   "language": "python",
   "name": "python3"
  },
  "language_info": {
   "codemirror_mode": {
    "name": "ipython",
    "version": 3
   },
   "file_extension": ".py",
   "mimetype": "text/x-python",
   "name": "python",
   "nbconvert_exporter": "python",
   "pygments_lexer": "ipython3",
   "version": "3.12.9"
  }
 },
 "nbformat": 4,
 "nbformat_minor": 5
}
