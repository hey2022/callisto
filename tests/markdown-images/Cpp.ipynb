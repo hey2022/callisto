{
 "cells": [
  {
   "cell_type": "markdown",
   "metadata": {},
   "source": [
    "[![xeus-cling](images/xeus-cling.png)](https://github.com/QuantStack/xeus-cling/)\n",
    "\n",
    "A Jupyter kernel for C++ based on the `cling` C++ interpreter and the `xeus` native implementation of the Jupyter protocol, xeus.\n",
    "\n",
    "- GitHub repository: https://github.com/QuantStack/xeus-cling/\n",
    "- Online documentation: https://xeus-cling.readthedocs.io/"
   ]
  },
  {
   "cell_type": "markdown",
   "metadata": {},
   "source": [
    "## Interactive Widgets\n",
    "\n",
    "[![xwidgets](images/xwidgets.png)](https://github.com/QuantStack/xwidgets/)\n",
    "\n",
    "Jupyter interactive widgets are supported in the xeus-based C++ kernel.\n",
    "\n",
    "- GitHub repository: https://github.com/QuantStack/xwidgets/\n",
    "- Online documentation: https://xwidgets.readthedocs.io/"
   ]
  }
 ],
 "metadata": {
  "kernelspec": {
   "display_name": "C++14",
   "language": "C++14",
   "name": "xeus-cling-cpp14"
  },
  "language_info": {
   "codemirror_mode": "text/x-c++src",
   "file_extension": ".cpp",
   "mimetype": "text/x-c++src",
   "name": "c++",
   "version": "-std=c++14"
  }
 },
 "nbformat": 4,
 "nbformat_minor": 4
}
