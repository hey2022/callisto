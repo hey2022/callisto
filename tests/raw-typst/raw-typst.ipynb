{
 "cells": [
  {
   "cell_type": "markdown",
   "id": "5b12cb4e-4b49-49cc-bb95-4598fb192166",
   "metadata": {},
   "source": [
    "$$ a^2 + b^2 = c^2 $$"
   ]
  },
  {
   "cell_type": "code",
   "execution_count": 1,
   "id": "8f5eca17-8a1b-4ca0-98ad-e168c24ea413",
   "metadata": {},
   "outputs": [
    {
     "data": {
      "text/plain": [
       "4"
      ]
     },
     "execution_count": 1,
     "metadata": {},
     "output_type": "execute_result"
    }
   ],
   "source": [
    "2+2"
   ]
  },
  {
   "cell_type": "raw",
   "id": "26ae5f55-948f-444a-8a5c-2e2e12c1e25f",
   "metadata": {},
   "source": [
    "// This is a raw cell\n",
    "// Callisto can be configured to interpret it as Typst markup\n",
    "$\n",
    "  QQ = { p/q : p in ZZ, q in ZZ^* }\n",
    "$"
   ]
  }
 ],
 "metadata": {
  "kernelspec": {
   "display_name": "Python 3 (ipykernel)",
   "language": "python",
   "name": "python3"
  },
  "language_info": {
   "codemirror_mode": {
    "name": "ipython",
    "version": 3
   },
   "file_extension": ".py",
   "mimetype": "text/x-python",
   "name": "python",
   "nbconvert_exporter": "python",
   "pygments_lexer": "ipython3",
   "version": "3.12.9"
  }
 },
 "nbformat": 4,
 "nbformat_minor": 5
}
